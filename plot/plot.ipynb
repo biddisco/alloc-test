{
 "cells": [
  {
   "cell_type": "code",
   "execution_count": 1,
   "id": "05a27a10",
   "metadata": {},
   "outputs": [],
   "source": [
    "import pandas as pd\n",
    "import numpy as np\n",
    "import io\n",
    "import os\n",
    "import matplotlib.pyplot as plt"
   ]
  },
  {
   "cell_type": "code",
   "execution_count": 2,
   "id": "654dba8f",
   "metadata": {},
   "outputs": [],
   "source": [
    "PLOT_DIR = \"/home/nathan/data/alloc-test-new/\""
   ]
  },
  {
   "cell_type": "code",
   "execution_count": 3,
   "id": "1f071bd7",
   "metadata": {},
   "outputs": [],
   "source": [
    "# rewrite above code as a function taking the filename as an argument\n",
    "def read_malloc_output(filename):\n",
    "    # if file does not exist return empty dataframe\n",
    "    if not os.path.isfile(filename):\n",
    "        return None\n",
    "\n",
    "    with open(filename, \"r\") as file:\n",
    "        output_text = file.read()\n",
    "\n",
    "    start_marker = \"columns:\"\n",
    "    start_index = output_text.find(start_marker) + len(start_marker)\n",
    "    table_text = output_text[start_index:]\n",
    "\n",
    "    # read csv into pandas dataframe, first row is column names\n",
    "    df = pd.read_csv(io.StringIO(table_text), header=None, delimiter=\",\", skipinitialspace=True)\n",
    "\n",
    "    # set column names from first row\n",
    "    df.columns = list(df.iloc[0, 0::1])\n",
    "    # drop first row    \n",
    "    df = df.iloc[1:, 0::1]\n",
    "\n",
    "    # convert all columns to numeric values\n",
    "    df = df.apply(pd.to_numeric)\n",
    "    # display(df)\n",
    "    return df\n"
   ]
  },
  {
   "cell_type": "code",
   "execution_count": 4,
   "id": "719d0815",
   "metadata": {},
   "outputs": [
    {
     "ename": "ParserError",
     "evalue": "Error tokenizing data. C error: Expected 2 fields in line 6, saw 4\n",
     "output_type": "error",
     "traceback": [
      "\u001b[0;31m---------------------------------------------------------------------------\u001b[0m",
      "\u001b[0;31mParserError\u001b[0m                               Traceback (most recent call last)",
      "Cell \u001b[0;32mIn[4], line 10\u001b[0m\n\u001b[1;32m      7\u001b[0m results[\u001b[39m\"\u001b[39m\u001b[39mstd::malloc\u001b[39m\u001b[39m\"\u001b[39m]       \u001b[39m=\u001b[39m read_malloc_output(PLOT_DIR \u001b[39m+\u001b[39m \u001b[39m\"\u001b[39m\u001b[39mtest_stdmalloc.txt\u001b[39m\u001b[39m\"\u001b[39m )\n\u001b[1;32m      8\u001b[0m \u001b[39m# results[\"umpire\"]            = read_malloc_output(PLOT_DIR + \"test_tspumalloc.txt\")\u001b[39;00m\n\u001b[1;32m      9\u001b[0m \u001b[39m# results[\"hoard\"]             = read_malloc_output(PLOT_DIR + \"test_hoardmalloc.txt\" )\u001b[39;00m\n\u001b[0;32m---> 10\u001b[0m results[\u001b[39m\"\u001b[39m\u001b[39mpmimalloc\u001b[39m\u001b[39m\"\u001b[39m]         \u001b[39m=\u001b[39m read_malloc_output(PLOT_DIR \u001b[39m+\u001b[39;49m \u001b[39m\"\u001b[39;49m\u001b[39mtest_pmimalloc.txt\u001b[39;49m\u001b[39m\"\u001b[39;49m )\n\u001b[1;32m     12\u001b[0m \u001b[39m# create empty dataframe \u001b[39;00m\n\u001b[1;32m     13\u001b[0m diff   \u001b[39m=\u001b[39m pd\u001b[39m.\u001b[39mDataFrame()\n",
      "Cell \u001b[0;32mIn[3], line 15\u001b[0m, in \u001b[0;36mread_malloc_output\u001b[0;34m(filename)\u001b[0m\n\u001b[1;32m     12\u001b[0m table_text \u001b[39m=\u001b[39m output_text[start_index:]\n\u001b[1;32m     14\u001b[0m \u001b[39m# read csv into pandas dataframe, first row is column names\u001b[39;00m\n\u001b[0;32m---> 15\u001b[0m df \u001b[39m=\u001b[39m pd\u001b[39m.\u001b[39;49mread_csv(io\u001b[39m.\u001b[39;49mStringIO(table_text), header\u001b[39m=\u001b[39;49m\u001b[39mNone\u001b[39;49;00m, delimiter\u001b[39m=\u001b[39;49m\u001b[39m\"\u001b[39;49m\u001b[39m,\u001b[39;49m\u001b[39m\"\u001b[39;49m, skipinitialspace\u001b[39m=\u001b[39;49m\u001b[39mTrue\u001b[39;49;00m)\n\u001b[1;32m     17\u001b[0m \u001b[39m# set column names from first row\u001b[39;00m\n\u001b[1;32m     18\u001b[0m df\u001b[39m.\u001b[39mcolumns \u001b[39m=\u001b[39m \u001b[39mlist\u001b[39m(df\u001b[39m.\u001b[39miloc[\u001b[39m0\u001b[39m, \u001b[39m0\u001b[39m::\u001b[39m1\u001b[39m])\n",
      "File \u001b[0;32m~/src/alloc-test-new/.venv/lib/python3.10/site-packages/pandas/io/parsers/readers.py:912\u001b[0m, in \u001b[0;36mread_csv\u001b[0;34m(filepath_or_buffer, sep, delimiter, header, names, index_col, usecols, dtype, engine, converters, true_values, false_values, skipinitialspace, skiprows, skipfooter, nrows, na_values, keep_default_na, na_filter, verbose, skip_blank_lines, parse_dates, infer_datetime_format, keep_date_col, date_parser, date_format, dayfirst, cache_dates, iterator, chunksize, compression, thousands, decimal, lineterminator, quotechar, quoting, doublequote, escapechar, comment, encoding, encoding_errors, dialect, on_bad_lines, delim_whitespace, low_memory, memory_map, float_precision, storage_options, dtype_backend)\u001b[0m\n\u001b[1;32m    899\u001b[0m kwds_defaults \u001b[39m=\u001b[39m _refine_defaults_read(\n\u001b[1;32m    900\u001b[0m     dialect,\n\u001b[1;32m    901\u001b[0m     delimiter,\n\u001b[0;32m   (...)\u001b[0m\n\u001b[1;32m    908\u001b[0m     dtype_backend\u001b[39m=\u001b[39mdtype_backend,\n\u001b[1;32m    909\u001b[0m )\n\u001b[1;32m    910\u001b[0m kwds\u001b[39m.\u001b[39mupdate(kwds_defaults)\n\u001b[0;32m--> 912\u001b[0m \u001b[39mreturn\u001b[39;00m _read(filepath_or_buffer, kwds)\n",
      "File \u001b[0;32m~/src/alloc-test-new/.venv/lib/python3.10/site-packages/pandas/io/parsers/readers.py:583\u001b[0m, in \u001b[0;36m_read\u001b[0;34m(filepath_or_buffer, kwds)\u001b[0m\n\u001b[1;32m    580\u001b[0m     \u001b[39mreturn\u001b[39;00m parser\n\u001b[1;32m    582\u001b[0m \u001b[39mwith\u001b[39;00m parser:\n\u001b[0;32m--> 583\u001b[0m     \u001b[39mreturn\u001b[39;00m parser\u001b[39m.\u001b[39;49mread(nrows)\n",
      "File \u001b[0;32m~/src/alloc-test-new/.venv/lib/python3.10/site-packages/pandas/io/parsers/readers.py:1704\u001b[0m, in \u001b[0;36mTextFileReader.read\u001b[0;34m(self, nrows)\u001b[0m\n\u001b[1;32m   1697\u001b[0m nrows \u001b[39m=\u001b[39m validate_integer(\u001b[39m\"\u001b[39m\u001b[39mnrows\u001b[39m\u001b[39m\"\u001b[39m, nrows)\n\u001b[1;32m   1698\u001b[0m \u001b[39mtry\u001b[39;00m:\n\u001b[1;32m   1699\u001b[0m     \u001b[39m# error: \"ParserBase\" has no attribute \"read\"\u001b[39;00m\n\u001b[1;32m   1700\u001b[0m     (\n\u001b[1;32m   1701\u001b[0m         index,\n\u001b[1;32m   1702\u001b[0m         columns,\n\u001b[1;32m   1703\u001b[0m         col_dict,\n\u001b[0;32m-> 1704\u001b[0m     ) \u001b[39m=\u001b[39m \u001b[39mself\u001b[39;49m\u001b[39m.\u001b[39;49m_engine\u001b[39m.\u001b[39;49mread(  \u001b[39m# type: ignore[attr-defined]\u001b[39;49;00m\n\u001b[1;32m   1705\u001b[0m         nrows\n\u001b[1;32m   1706\u001b[0m     )\n\u001b[1;32m   1707\u001b[0m \u001b[39mexcept\u001b[39;00m \u001b[39mException\u001b[39;00m:\n\u001b[1;32m   1708\u001b[0m     \u001b[39mself\u001b[39m\u001b[39m.\u001b[39mclose()\n",
      "File \u001b[0;32m~/src/alloc-test-new/.venv/lib/python3.10/site-packages/pandas/io/parsers/c_parser_wrapper.py:234\u001b[0m, in \u001b[0;36mCParserWrapper.read\u001b[0;34m(self, nrows)\u001b[0m\n\u001b[1;32m    232\u001b[0m \u001b[39mtry\u001b[39;00m:\n\u001b[1;32m    233\u001b[0m     \u001b[39mif\u001b[39;00m \u001b[39mself\u001b[39m\u001b[39m.\u001b[39mlow_memory:\n\u001b[0;32m--> 234\u001b[0m         chunks \u001b[39m=\u001b[39m \u001b[39mself\u001b[39;49m\u001b[39m.\u001b[39;49m_reader\u001b[39m.\u001b[39;49mread_low_memory(nrows)\n\u001b[1;32m    235\u001b[0m         \u001b[39m# destructive to chunks\u001b[39;00m\n\u001b[1;32m    236\u001b[0m         data \u001b[39m=\u001b[39m _concatenate_chunks(chunks)\n",
      "File \u001b[0;32m~/src/alloc-test-new/.venv/lib/python3.10/site-packages/pandas/_libs/parsers.pyx:814\u001b[0m, in \u001b[0;36mpandas._libs.parsers.TextReader.read_low_memory\u001b[0;34m()\u001b[0m\n",
      "File \u001b[0;32m~/src/alloc-test-new/.venv/lib/python3.10/site-packages/pandas/_libs/parsers.pyx:875\u001b[0m, in \u001b[0;36mpandas._libs.parsers.TextReader._read_rows\u001b[0;34m()\u001b[0m\n",
      "File \u001b[0;32m~/src/alloc-test-new/.venv/lib/python3.10/site-packages/pandas/_libs/parsers.pyx:850\u001b[0m, in \u001b[0;36mpandas._libs.parsers.TextReader._tokenize_rows\u001b[0;34m()\u001b[0m\n",
      "File \u001b[0;32m~/src/alloc-test-new/.venv/lib/python3.10/site-packages/pandas/_libs/parsers.pyx:861\u001b[0m, in \u001b[0;36mpandas._libs.parsers.TextReader._check_tokenize_status\u001b[0;34m()\u001b[0m\n",
      "File \u001b[0;32m~/src/alloc-test-new/.venv/lib/python3.10/site-packages/pandas/_libs/parsers.pyx:2029\u001b[0m, in \u001b[0;36mpandas._libs.parsers.raise_parser_error\u001b[0;34m()\u001b[0m\n",
      "\u001b[0;31mParserError\u001b[0m: Error tokenizing data. C error: Expected 2 fields in line 6, saw 4\n"
     ]
    }
   ],
   "source": [
    "results = {}\n",
    "results[\"mimalloc\"]          = read_malloc_output(PLOT_DIR + \"test_mimalloc.txt\"  )\n",
    "results[\"jemalloc\"]          = read_malloc_output(PLOT_DIR + \"test_jemalloc.txt\"  )\n",
    "# results[\"tcmalloc\"]          = read_malloc_output(PLOT_DIR + \"test_tcmalloc.txt\"  )\n",
    "# results[\"fancy std::malloc\"] = read_malloc_output(PLOT_DIR + \"test_tfmalloc.txt\"  )\n",
    "# results[\"hwmalloc\"]          = read_malloc_output(PLOT_DIR + \"test_hwmalloc.txt\"  )\n",
    "results[\"std::malloc\"]       = read_malloc_output(PLOT_DIR + \"test_stdmalloc.txt\" )\n",
    "# results[\"umpire\"]            = read_malloc_output(PLOT_DIR + \"test_tspumalloc.txt\")\n",
    "# results[\"hoard\"]             = read_malloc_output(PLOT_DIR + \"test_hoardmalloc.txt\" )\n",
    "results[\"pmimalloc\"]         = read_malloc_output(PLOT_DIR + \"test_pmimalloc.txt\" )\n",
    "\n",
    "# create empty dataframe \n",
    "diff   = pd.DataFrame()\n",
    "memory = pd.DataFrame()\n",
    "dur    = pd.DataFrame()\n",
    "\n",
    "for name, df in results.items():\n",
    "    if df is not None:\n",
    "        dur = pd.concat([dur, df[\"duration(ms)\"]], axis = 1)\n",
    "        dur.rename(columns = {\"duration(ms)\": name}, inplace = True)\n",
    "        \n",
    "for name, df in results.items():\n",
    "    if df is not None:\n",
    "        diff = pd.concat([diff, df[\"diff(ms)\"]], axis = 1)\n",
    "        diff.rename(columns = {\"diff(ms)\": name}, inplace = True)\n",
    "        \n",
    "for name, df in results.items():\n",
    "    if df is not None:\n",
    "        memory = pd.concat([memory, df[\"(RSS max<<12)/allocatedMax\"]], axis = 1)\n",
    "        memory.rename(columns = {\"(RSS max<<12)/allocatedMax\": name}, inplace = True)\n",
    "        \n",
    "# # display(abs time)\n",
    "# plt_dur = dur.plot(title = 'Absolute time dedicated to the test')\n",
    "# plt_dur.set_xlabel(\"Threads\")\n",
    "# plt_dur.set_ylabel(\"Duration (ms)\")     \n",
    "\n",
    "\n",
    "# display(diff)\n",
    "plt_diff = diff.plot(title = 'Time dedicated to allocation/deallocation')\n",
    "plt_diff.set_xlabel(\"Threads\")\n",
    "plt_diff.set_ylabel(\"Diff (ms)\")\n",
    "\n",
    "\n",
    "# display(memory)\n",
    "plt_memory = memory.plot(title = 'Memory efficiency')\n",
    "plt_memory.set_xlabel(\"Threads\")\n",
    "plt_memory.set_ylabel(\"RSS max / max size allocated\")"
   ]
  },
  {
   "cell_type": "code",
   "execution_count": null,
   "id": "48b3cd6f",
   "metadata": {},
   "outputs": [],
   "source": []
  }
 ],
 "metadata": {
  "kernelspec": {
   "display_name": ".venv",
   "language": "python",
   "name": "python3"
  },
  "language_info": {
   "codemirror_mode": {
    "name": "ipython",
    "version": 3
   },
   "file_extension": ".py",
   "mimetype": "text/x-python",
   "name": "python",
   "nbconvert_exporter": "python",
   "pygments_lexer": "ipython3",
   "version": "3.10.11"
  }
 },
 "nbformat": 4,
 "nbformat_minor": 5
}
